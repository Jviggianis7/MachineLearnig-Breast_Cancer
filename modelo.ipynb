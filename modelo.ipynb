{
  "cells": [
    {
      "cell_type": "code",
      "execution_count": 62,
      "metadata": {
        "id": "gsvTljJtyydv"
      },
      "outputs": [],
      "source": [
        "import pandas as pd  # Importa la biblioteca pandas para manipulación de datos\n",
        "from sklearn.model_selection import train_test_split  # Importa la función train_test_split para dividir los datos en conjuntos de entrenamiento y prueba\n",
        "from sklearn.metrics import accuracy_score  # Importa la función accuracy_score para calcular la precisión del modelo\n",
        "from sklearn.tree import DecisionTreeClassifier  # Importa la clase DecisionTreeClassifier para el algoritmo de árbol de decisiones\n",
        "from sklearn.metrics import classification_report, confusion_matrix, accuracy_score, precision_score, recall_score, f1_score  # Importa varias funciones de evaluación de modelos\n",
        "from sklearn import metrics  # Importa la biblioteca metrics para métricas de evaluación de modelos\n",
        "from sklearn.tree import plot_tree  # Importa la función plot_tree para trazar el árbol de decisiones\n",
        "import seaborn as sns  # Importa la biblioteca seaborn para gráficos estadístico\n",
        "import numpy as np  # Importa la biblioteca NumPy\n",
        "import matplotlib.pyplot as plt  # Importa la biblioteca matplotlib.pyplot para gráficos y visualizaciones"
      ]
    },
    {
      "cell_type": "code",
      "execution_count": 71,
      "metadata": {},
      "outputs": [],
      "source": [
        "data =pd.read_csv('breast-cancer.csv') \n",
        "counts = data.groupby('diagnosis').size()# Cuenta la cantidad de muestras en cada clase\n",
        "min_count = min(counts)# Obtiene la cantidad mínima de muestras entre las clases\n",
        "subsampled_data = data.groupby('diagnosis').apply(lambda x: x.sample(n=min_count, random_state=42)) # Realiza submuestreo en cada clase para igualar la cantidad de muestras\n",
        "subsampled_data = subsampled_data.reset_index(drop=True) # Restablece el índice del DataFrame resultante\n",
        "# El DataFrame 'subsampled_data' contiene la cantidad igualada de datos\n"
      ]
    },
    {
      "cell_type": "code",
      "execution_count": 72,
      "metadata": {},
      "outputs": [],
      "source": [
        "subsampled_data = data.drop(['id'], axis=1)  \n",
        "subsampled_data['diagnosis'] = data['diagnosis'].map({ 'M': 1, 'B': 0 })\n",
        "X = subsampled_data.drop('diagnosis', axis=1) \n",
        "y = subsampled_data['diagnosis']"
      ]
    },
    {
      "cell_type": "code",
      "execution_count": 73,
      "metadata": {},
      "outputs": [
        {
          "data": {
            "text/plain": [
              "id                         569\n",
              "diagnosis                    2\n",
              "radius_mean                456\n",
              "texture_mean               479\n",
              "perimeter_mean             522\n",
              "area_mean                  539\n",
              "smoothness_mean            474\n",
              "compactness_mean           537\n",
              "concavity_mean             537\n",
              "concave points_mean        542\n",
              "symmetry_mean              432\n",
              "fractal_dimension_mean     499\n",
              "radius_se                  540\n",
              "texture_se                 519\n",
              "perimeter_se               533\n",
              "area_se                    528\n",
              "smoothness_se              547\n",
              "compactness_se             541\n",
              "concavity_se               533\n",
              "concave points_se          507\n",
              "symmetry_se                498\n",
              "fractal_dimension_se       545\n",
              "radius_worst               457\n",
              "texture_worst              511\n",
              "perimeter_worst            514\n",
              "area_worst                 544\n",
              "smoothness_worst           411\n",
              "compactness_worst          529\n",
              "concavity_worst            539\n",
              "concave points_worst       492\n",
              "symmetry_worst             500\n",
              "fractal_dimension_worst    535\n",
              "dtype: int64"
            ]
          },
          "execution_count": 73,
          "metadata": {},
          "output_type": "execute_result"
        }
      ],
      "source": [
        "data.nunique()"
      ]
    },
    {
      "cell_type": "code",
      "execution_count": 74,
      "metadata": {},
      "outputs": [
        {
          "data": {
            "text/plain": [
              "0    1\n",
              "1    1\n",
              "2    1\n",
              "3    1\n",
              "4    1\n",
              "Name: diagnosis, dtype: int64"
            ]
          },
          "execution_count": 74,
          "metadata": {},
          "output_type": "execute_result"
        }
      ],
      "source": [
        "y.head()"
      ]
    },
    {
      "cell_type": "code",
      "execution_count": 75,
      "metadata": {
        "id": "nipNvslnhaDU"
      },
      "outputs": [],
      "source": [
        "# Dividir los datos en conjuntos de entrenamiento y prueba\n",
        "# utilizando la función train_test_split de scikit-learn\n",
        "X_train, X_test, y_train, y_test = train_test_split(X, y, test_size=0.2, random_state=42, stratify=y)"
      ]
    },
    {
      "attachments": {},
      "cell_type": "markdown",
      "metadata": {
        "id": "N-GHw-jS12S5"
      },
      "source": [
        "**Random Forest**"
      ]
    },
    {
      "cell_type": "code",
      "execution_count": 76,
      "metadata": {
        "colab": {
          "base_uri": "https://localhost:8080/",
          "height": 75
        },
        "id": "8OJgnZLD2S-e",
        "outputId": "34cfa750-3d8e-4377-9693-4d5a39747579"
      },
      "outputs": [],
      "source": [
        "from sklearn.ensemble import RandomForestClassifier\n",
        "rf = RandomForestClassifier(n_estimators=100, random_state=42)  # Crea una instancia de RandomForestClassifier\n",
        "rf.fit(X_train, y_train)  # Ajusta el modelo de bosque aleatorio utilizando los datos de entrenamiento\n",
        "y_predRFC = rf.predict(X_test)  # Realiza predicciones utilizando el modelo de bosque aleatorio en el conjunto de prueba"
      ]
    },
    {
      "cell_type": "code",
      "execution_count": 77,
      "metadata": {
        "colab": {
          "base_uri": "https://localhost:8080/"
        },
        "id": "T7nzFxFc3NHI",
        "outputId": "6ec8b457-339c-4dd0-ca8e-161f53cdcc80"
      },
      "outputs": [
        {
          "name": "stdout",
          "output_type": "stream",
          "text": [
            "Matriz de confusión:\n",
            "[[72  0]\n",
            " [ 3 39]]\n",
            "Informe de clasificación:\n",
            "              precision    recall  f1-score   support\n",
            "\n",
            "           0       0.96      1.00      0.98        72\n",
            "           1       1.00      0.93      0.96        42\n",
            "\n",
            "    accuracy                           0.97       114\n",
            "   macro avg       0.98      0.96      0.97       114\n",
            "weighted avg       0.97      0.97      0.97       114\n",
            "\n",
            "Accuracy del modelo: 0.9736842105263158\n",
            "presición del modelo: 1.0\n",
            "Puntuación F1: 0.962962962962963\n"
          ]
        }
      ],
      "source": [
        "# Obtener la matriz de confusión\n",
        "confusion_mat = confusion_matrix(y_test, y_predRFC)\n",
        "print(\"Matriz de confusión:\")\n",
        "print(confusion_mat)\n",
        "\n",
        "# Obtener el informe de clasificación\n",
        "classification = classification_report(y_test, y_predRFC)\n",
        "print(\"Informe de clasificación:\")\n",
        "print(classification)\n",
        "\n",
        "# Obtener la accuary general\n",
        "accuracy = accuracy_score(y_test, y_predRFC)\n",
        "print(\"Accuracy del modelo:\", accuracy)\n",
        "\n",
        "# Obtener la precision general\n",
        "precision = precision_score(y_test, y_predRFC)\n",
        "print(\"presición del modelo:\", precision)\n",
        "\n",
        "#Obtener el f1 general\n",
        "f1 = f1_score(y_test, y_predRFC)\n",
        "print(\"Puntuación F1:\", f1)"
      ]
    },
    {
      "cell_type": "code",
      "execution_count": 78,
      "metadata": {
        "colab": {
          "base_uri": "https://localhost:8080/"
        },
        "id": "2wpv8SY6ow-h",
        "outputId": "a24d58a3-0320-4f7e-ab05-c0746a32ae0f"
      },
      "outputs": [
        {
          "name": "stdout",
          "output_type": "stream",
          "text": [
            "Cross-validation scores:  [0.92105263 0.93859649 0.98245614 0.96491228 0.97345133]\n",
            "Average cross-validation score:  0.9560937742586555\n"
          ]
        }
      ],
      "source": [
        "from sklearn.model_selection import cross_val_score\n",
        "# Realizar la validación cruzada con 5 pliegues\n",
        "cv_scoresrf = cross_val_score(rf, X, y, cv=5)\n",
        "\n",
        "# Imprimir los puntajes de validación cruzada obtenidos en cada pliegue\n",
        "print(\"Cross-validation scores: \", cv_scoresrf)\n",
        "\n",
        "# Calcular y mostrar el promedio de los puntajes de validación cruzada\n",
        "print(\"Average cross-validation score: \", cv_scoresrf.mean())"
      ]
    },
    {
      "attachments": {},
      "cell_type": "markdown",
      "metadata": {
        "id": "J15-tekeHMY-"
      },
      "source": [
        "Average cross-validation score:  95%"
      ]
    },
    {
      "cell_type": "code",
      "execution_count": 79,
      "metadata": {
        "colab": {
          "base_uri": "https://localhost:8080/",
          "height": 449
        },
        "id": "PxhXPp5S5DCA",
        "outputId": "6c2f037f-8b63-46d6-df35-ba1f594de26a"
      },
      "outputs": [
        {
          "data": {
            "image/png": "[encoded data removed]",
            "text/plain": [
              "<Figure size 640x480 with 2 Axes>"
            ]
          },
          "metadata": {},
          "output_type": "display_data"
        }
      ],
      "source": [
        "labels = np.unique(y_test)\n",
        "confusion_mat = confusion_matrix(y_test, y_predRFC, labels=labels)\n",
        "\n",
        "fig, ax = plt.subplots()\n",
        "im = ax.imshow(confusion_mat, interpolation='nearest', cmap=plt.cm.Blues)\n",
        "ax.figure.colorbar(im, ax=ax)\n",
        "ax.set(xticks=np.arange(confusion_mat.shape[1]),\n",
        "       yticks=np.arange(confusion_mat.shape[0]),\n",
        "       xticklabels=labels, yticklabels=labels,\n",
        "       xlabel='Etiqueta predicha', ylabel='Etiqueta verdadera')\n",
        "\n",
        "plt.show()"
      ]
    },
    {
      "cell_type": "code",
      "execution_count": 80,
      "metadata": {},
      "outputs": [],
      "source": [
        "import pickle"
      ]
    },
    {
      "cell_type": "code",
      "execution_count": 81,
      "metadata": {},
      "outputs": [],
      "source": [
        "filename='model.sav'"
      ]
    },
    {
      "cell_type": "code",
      "execution_count": 82,
      "metadata": {},
      "outputs": [],
      "source": [
        "pickle.dump(rf, open(filename, 'wb'))"
      ]
    }
  ],
  "metadata": {
    "colab": {
      "provenance": []
    },
    "kernelspec": {
      "display_name": "Python 3",
      "name": "python3"
    },
    "language_info": {
      "codemirror_mode": {
        "name": "ipython",
        "version": 3
      },
      "file_extension": ".py",
      "mimetype": "text/x-python",
      "name": "python",
      "nbconvert_exporter": "python",
      "pygments_lexer": "ipython3",
      "version": "3.10.11"
    }
  },
  "nbformat": 4,
  "nbformat_minor": 0
}
